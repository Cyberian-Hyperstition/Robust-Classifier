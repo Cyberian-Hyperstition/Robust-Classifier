{
  "nbformat": 4,
  "nbformat_minor": 0,
  "metadata": {
    "colab": {
      "provenance": []
    },
    "kernelspec": {
      "name": "python3",
      "display_name": "Python 3"
    },
    "language_info": {
      "name": "python"
    }
  },
  "cells": [
    {
      "cell_type": "markdown",
      "source": [
        "### Robust classifier: MNIST 0/1 case\n",
        "\n",
        "This code is an attempt to solve robust classification problem for a binary MNIST dataset. Here I train a classifier with BCE-loss, construct optimal perturbation and then train a robust classifier using sklern and numpy."
      ],
      "metadata": {
        "id": "nUSLsYnO1PFj"
      }
    },
    {
      "cell_type": "markdown",
      "source": [
        "### Imports"
      ],
      "metadata": {
        "id": "MF2gfs1WW4n7"
      }
    },
    {
      "cell_type": "code",
      "source": [
        "from sklearn.datasets import fetch_openml\n",
        "from sklearn.model_selection import train_test_split\n",
        "from sklearn.linear_model import LogisticRegression\n",
        "from sklearn.preprocessing import MinMaxScaler\n",
        "import numpy as np\n",
        "import matplotlib.pyplot as plt\n",
        "import warnings\n",
        "warnings.filterwarnings(\"ignore\")"
      ],
      "metadata": {
        "id": "BTxPbBya1gBY"
      },
      "execution_count": null,
      "outputs": []
    },
    {
      "cell_type": "code",
      "source": [
        "# Load the dataset\n",
        "mnist = fetch_openml('mnist_784', as_frame=False, cache=False)\n",
        "# featch_mldata method to load MNIST returns data and target as uint8 which we convert to float32 and int64\n",
        "X = mnist.data.astype('float32')\n",
        "y = mnist.target.astype('int64')\n",
        "# Leave only samples with digits 0 and 1\n",
        "y_bin = y[(y == 0) | (y == 1)]\n",
        "X_bin = X[(y == 0) | (y == 1)]\n",
        "# See the target rate (dataset is balanced)\n",
        "print(\"Target rate: \", y_bin.mean())"
      ],
      "metadata": {
        "colab": {
          "base_uri": "https://localhost:8080/"
        },
        "id": "7i_RQ8o928QK",
        "outputId": "e32a0ca5-8a93-4588-aff9-4832160a6dc5"
      },
      "execution_count": null,
      "outputs": [
        {
          "output_type": "stream",
          "name": "stdout",
          "text": [
            "Target rate:  0.5329499323410013\n"
          ]
        }
      ]
    },
    {
      "cell_type": "code",
      "source": [
        "def plot_example(X, y):\n",
        "    \"\"\"Plot the first 5 images and their labels in a row.\"\"\"\n",
        "    for i, (img, y) in enumerate(zip(X[:5].reshape(5, 28, 28), y[:5])):\n",
        "        plt.subplot(151 + i)\n",
        "        plt.imshow(img, cmap = 'gray')\n",
        "        plt.xticks([])\n",
        "        plt.yticks([])\n",
        "        plt.title(y)\n",
        "\n",
        "plot_example(X_bin, y_bin)"
      ],
      "metadata": {
        "colab": {
          "base_uri": "https://localhost:8080/",
          "height": 144
        },
        "id": "JG0NpLKF4DNE",
        "outputId": "966553a8-2834-4403-acc2-1e9424046e7d"
      },
      "execution_count": null,
      "outputs": [
        {
          "output_type": "display_data",
          "data": {
            "text/plain": [
              "<Figure size 640x480 with 5 Axes>"
            ],
            "image/png": "[encoded data removed]"
          },
          "metadata": {}
        }
      ]
    },
    {
      "cell_type": "markdown",
      "source": [
        "### Solving original classification problem\n"
      ],
      "metadata": {
        "id": "2LfvRTko4Kfi"
      }
    },
    {
      "cell_type": "code",
      "source": [
        "scaler = MinMaxScaler()\n",
        "X_bin_norm = scaler.fit_transform(X_bin)\n",
        "X_train, X_test, y_train, y_test = train_test_split(X_bin_norm, y_bin, test_size=0.3)\n",
        "\n",
        "logistic_model = LogisticRegression()\n",
        "logistic_model.fit(X_train, y_train)\n",
        "accuracy = logistic_model.score(X_test, y_test)\n",
        "\n",
        "accuracy #всё норм, качество овер99.9%"
      ],
      "metadata": {
        "id": "6NADZyCGLEGF",
        "colab": {
          "base_uri": "https://localhost:8080/"
        },
        "outputId": "cedb8b55-1f83-4e85-e66a-7973784e31ff"
      },
      "execution_count": null,
      "outputs": [
        {
          "output_type": "execute_result",
          "data": {
            "text/plain": [
              "0.9993234100135318"
            ]
          },
          "metadata": {},
          "execution_count": 96
        }
      ]
    },
    {
      "cell_type": "markdown",
      "source": [
        "### Solving inner maximization problem\n",
        "To build a robust classifier we need to solve two problems:\n",
        "+ Inner optimization problem: find the solution to the worse-case adversarial attack\n",
        "+ Train classifier with the robust optimization problem\n",
        "\n",
        "The inner optimization problem stated as\n",
        "\n",
        "\\begin{equation}\n",
        "\\DeclareMathOperator*{\\maximize}{maximize}\n",
        "\\maximize_{\\|\\delta\\| \\leq \\epsilon} \\ell(w^T (x+\\delta), y) \\equiv \\maximize_{\\|\\delta\\| \\leq \\epsilon} L(y \\cdot (w^T(x+\\delta) + b)).\n",
        "\\end{equation}\n",
        "\n",
        "has closed-form solution in binary case:\n",
        "\n",
        "\\begin{equation}\n",
        "\\delta^\\star = - y \\epsilon \\cdot \\mathrm{sign}(w)\n",
        "\\end{equation}\n"
      ],
      "metadata": {
        "id": "dJWOl6_u_d_m"
      }
    },
    {
      "cell_type": "code",
      "source": [
        "# TODO: Construct a valid perturbation and plot it.\n",
        "epsilon = 0.25\n",
        "w = logistic_model.coef_[0]\n",
        "b = logistic_model.intercept_[0]\n",
        "delta_star = -epsilon * np.sign(w)\n",
        "X_test_perturbed = X_test + delta_star\n",
        "X_test_perturbed = np.clip(X_test_perturbed, 0, 1)\n",
        "\n",
        "plt.figure(figsize = (10, 5))\n",
        "plt.subplot(1, 2, 1)\n",
        "plt.imshow(delta_star.reshape(28, 28), cmap='gray')\n",
        "plt.title(\"Perturbation $\\delta^\\star$\")\n",
        "plt.colorbar()\n",
        "#пертурбация, как я вижу, призвана заглушить в картинке качества, присущие и нулю, и единичке, и усилить шум -- то, что усложняет классификацию"
      ],
      "metadata": {
        "id": "dMtsWKx9_iWd",
        "colab": {
          "base_uri": "https://localhost:8080/",
          "height": 439
        },
        "outputId": "08aac040-09dd-42f8-f8e8-cac4f5b70f42"
      },
      "execution_count": null,
      "outputs": [
        {
          "output_type": "execute_result",
          "data": {
            "text/plain": [
              "<matplotlib.colorbar.Colorbar at 0x7c44bc856770>"
            ]
          },
          "metadata": {},
          "execution_count": 97
        },
        {
          "output_type": "display_data",
          "data": {
            "text/plain": [
              "<Figure size 1000x500 with 2 Axes>"
            ],
            "image/png": "[encoded data removed]"
          },
          "metadata": {}
        }
      ]
    },
    {
      "cell_type": "code",
      "source": [
        "accuracy_perturbed = logistic_model.score(X_test_perturbed, y_test)\n",
        "accuracy_perturbed # как видим, точность стала такая же примерно, как и у random классифаера"
      ],
      "metadata": {
        "id": "PpIeYJU4SI22",
        "colab": {
          "base_uri": "https://localhost:8080/"
        },
        "outputId": "d711429f-c0a4-4615-c1a8-21596752c63b"
      },
      "execution_count": null,
      "outputs": [
        {
          "output_type": "execute_result",
          "data": {
            "text/plain": [
              "0.47316193053676137"
            ]
          },
          "metadata": {},
          "execution_count": 100
        }
      ]
    },
    {
      "cell_type": "code",
      "source": [
        "plot_example(X_test_perturbed, y_test)\n",
        "#пертурбацию немного видно -- точность становится минимальной, когда эпсилон достаточно большой --\n",
        "#но чем он больше, тем проще пертурбацию распознать. энивей, цифры всё так же однозначно различимы."
      ],
      "metadata": {
        "id": "vmE9XQQ8StHX",
        "colab": {
          "base_uri": "https://localhost:8080/",
          "height": 144
        },
        "outputId": "3e66d173-65e8-4be8-d605-4c32d08d5518"
      },
      "execution_count": null,
      "outputs": [
        {
          "output_type": "display_data",
          "data": {
            "text/plain": [
              "<Figure size 640x480 with 5 Axes>"
            ],
            "image/png": "[encoded data removed]"
          },
          "metadata": {}
        }
      ]
    },
    {
      "cell_type": "markdown",
      "source": [
        "### Training a robust classifier\n",
        "This problem is equivalent to min-max problem in the case of binary classification:\n",
        "\n",
        "\\begin{equation}\n",
        "\\DeclareMathOperator*{\\minimize}{minimize}\n",
        "\\minimize_{w,b} \\frac{1}{D}\\sum_{(x,y) \\in D} L \\left(y \\cdot (w^Tx + b) - \\epsilon \\|w\\|_* \\right )\n",
        "\\end{equation}\n"
      ],
      "metadata": {
        "id": "XIc92am-_oNB"
      }
    },
    {
      "cell_type": "code",
      "source": [
        "from sklearn.base import BaseEstimator\n",
        "\n",
        "class RobustLogisticRegression(BaseEstimator):\n",
        "\n",
        "    def __init__(self, epsilon=0.2, learning_rate=3e-4, n_iter=50):\n",
        "        self.epsilon = epsilon\n",
        "        self.learning_rate = learning_rate\n",
        "        self.n_iter = n_iter\n",
        "        self.w = None\n",
        "        self.b = None\n",
        "\n",
        "    def fit(self, X, y):\n",
        "        self.w = np.zeros(X.shape[1])\n",
        "        self.b = 0\n",
        "        for i in range(self.n_iter):\n",
        "            gradient_w, gradient_b = self._compute_gradient(X, y)\n",
        "            self.w -= self.learning_rate * gradient_w\n",
        "            self.b -= self.learning_rate * gradient_b\n",
        "            if self.score(X, y) >= 0.996: #чтобы быстрее работало, и эта точность приемлемая\n",
        "              break\n",
        "\n",
        "    def predict(self, X):\n",
        "        scores = np.dot(X, self.w) + self.b\n",
        "        return np.where(scores > 0, 1, 0)\n",
        "\n",
        "    def _compute_gradient(self, X, y):\n",
        "        n = X.shape[0]\n",
        "        predictions = self._sigmoid(np.dot(X, self.w) + self.b)\n",
        "        error = predictions - y\n",
        "        gradient_w = np.dot(X.T, error) / n + self.epsilon * np.sign(self.w)\n",
        "        gradient_b = np.sum(error) / n\n",
        "        return gradient_w, gradient_b\n",
        "\n",
        "    def _sigmoid(self, z):\n",
        "        return 1 / (1 + np.exp(-z))\n",
        "\n",
        "    def score(self, X, y):\n",
        "        predictions = self.predict(X)\n",
        "        correct_predictions = np.sum(predictions == y)\n",
        "        accuracy = correct_predictions / len(y)\n",
        "        return accuracy"
      ],
      "metadata": {
        "id": "nyzckKnLFs-2"
      },
      "execution_count": null,
      "outputs": []
    },
    {
      "cell_type": "code",
      "source": [
        "robust_lr = RobustLogisticRegression()\n",
        "robust_lr.fit(X_train, y_train)\n",
        "X_test_perturbed = np.clip(X_test + delta_star, 0, 1)\n",
        "accuracy_perturbed = robust_lr.score(X_test_perturbed, y_test)\n",
        "print(accuracy_perturbed)\n",
        "#а теперь стало норм, точность выше 99%"
      ],
      "metadata": {
        "id": "3QGypZwWV31E",
        "colab": {
          "base_uri": "https://localhost:8080/"
        },
        "outputId": "f7ffe9c9-7290-48ed-e489-56acb89565d1"
      },
      "execution_count": null,
      "outputs": [
        {
          "output_type": "stream",
          "name": "stdout",
          "text": [
            "0.9963915200721696\n"
          ]
        }
      ]
    },
    {
      "cell_type": "code",
      "source": [
        "accuracy_non_perturbed = robust_lr.score(X_test, y_test)\n",
        "accuracy_non_perturbed\n",
        "#качество, конечно, упало, но это обусловлено увеличением сложности проблемы. Оно примерно такое же, как и на изменённой выборке."
      ],
      "metadata": {
        "id": "OCddfF9UV5nd",
        "colab": {
          "base_uri": "https://localhost:8080/"
        },
        "outputId": "0f4dc1cc-7f7f-4dcf-bc97-0514b7e486eb"
      },
      "execution_count": null,
      "outputs": [
        {
          "output_type": "execute_result",
          "data": {
            "text/plain": [
              "0.996617050067659"
            ]
          },
          "metadata": {},
          "execution_count": 116
        }
      ]
    },
    {
      "cell_type": "code",
      "source": [
        "# Plotting the optimal perturbation for the robust model\n",
        "w = robust_lr.w\n",
        "\n",
        "delta_star_robust = -epsilon * np.sign(w)\n",
        "\n",
        "\n",
        "plt.imshow(delta_star_robust.reshape(28, 28), cmap = 'gray')\n",
        "plt.title(\"Optimal Perturbation $\\delta^\\star$\")\n",
        "plt.colorbar()\n",
        "plt.show()\n",
        "\n",
        "plt.imshow(delta_star_robust.reshape(28, 28)+delta_star.reshape(28, 28), cmap = 'gray')\n",
        "plt.title(\"Perturbation sum $\\delta^\\star$\")\n",
        "plt.colorbar()\n",
        "plt.show()\n",
        "\n",
        "#В целом, происходит то же, что и раньше -- затемняются характерные для нуля и единички признаки, а шумовые клетки усиливаются\n",
        "#Наложение двух пертурбаций друг на друга, в целом, показывает то же самое."
      ],
      "metadata": {
        "id": "ST7qzjbwWDP5",
        "colab": {
          "base_uri": "https://localhost:8080/",
          "height": 889
        },
        "outputId": "6aca5c90-9878-43ac-f42b-3e3ab6ba45d8"
      },
      "execution_count": null,
      "outputs": [
        {
          "output_type": "display_data",
          "data": {
            "text/plain": [
              "<Figure size 640x480 with 2 Axes>"
            ],
            "image/png": "[encoded data removed]"
          },
          "metadata": {}
        },
        {
          "output_type": "display_data",
          "data": {
            "text/plain": [
              "<Figure size 640x480 with 2 Axes>"
            ],
            "image/png": "[encoded data removed]"
          },
          "metadata": {}
        }
      ]
    }
  ]
}